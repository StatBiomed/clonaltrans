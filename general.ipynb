{
 "cells": [
  {
   "attachments": {},
   "cell_type": "markdown",
   "metadata": {},
   "source": [
    "#### Similarity Matrix"
   ]
  },
  {
   "cell_type": "code",
   "execution_count": 11,
   "metadata": {},
   "outputs": [
    {
     "data": {
      "text/html": [
       "<div>\n",
       "<style scoped>\n",
       "    .dataframe tbody tr th:only-of-type {\n",
       "        vertical-align: middle;\n",
       "    }\n",
       "\n",
       "    .dataframe tbody tr th {\n",
       "        vertical-align: top;\n",
       "    }\n",
       "\n",
       "    .dataframe thead th {\n",
       "        text-align: right;\n",
       "    }\n",
       "</style>\n",
       "<table border=\"1\" class=\"dataframe\">\n",
       "  <thead>\n",
       "    <tr style=\"text-align: right;\">\n",
       "      <th></th>\n",
       "      <th>0</th>\n",
       "      <th>1</th>\n",
       "      <th>2</th>\n",
       "      <th>3</th>\n",
       "      <th>4</th>\n",
       "      <th>5</th>\n",
       "      <th>6</th>\n",
       "      <th>7</th>\n",
       "      <th>8</th>\n",
       "      <th>9</th>\n",
       "    </tr>\n",
       "  </thead>\n",
       "  <tbody>\n",
       "    <tr>\n",
       "      <th>0</th>\n",
       "      <td>0.0</td>\n",
       "      <td>369.0</td>\n",
       "      <td>850.0</td>\n",
       "      <td>400.0</td>\n",
       "      <td>960.0</td>\n",
       "      <td>158.0</td>\n",
       "      <td>2408.0</td>\n",
       "      <td>385.0</td>\n",
       "      <td>326.0</td>\n",
       "      <td>5342.0</td>\n",
       "    </tr>\n",
       "    <tr>\n",
       "      <th>1</th>\n",
       "      <td>369.0</td>\n",
       "      <td>0.0</td>\n",
       "      <td>615.0</td>\n",
       "      <td>521.0</td>\n",
       "      <td>890.0</td>\n",
       "      <td>441.0</td>\n",
       "      <td>2482.0</td>\n",
       "      <td>689.0</td>\n",
       "      <td>294.0</td>\n",
       "      <td>5385.0</td>\n",
       "    </tr>\n",
       "    <tr>\n",
       "      <th>2</th>\n",
       "      <td>850.0</td>\n",
       "      <td>615.0</td>\n",
       "      <td>0.0</td>\n",
       "      <td>927.0</td>\n",
       "      <td>970.0</td>\n",
       "      <td>884.0</td>\n",
       "      <td>2578.0</td>\n",
       "      <td>1031.0</td>\n",
       "      <td>822.0</td>\n",
       "      <td>5435.0</td>\n",
       "    </tr>\n",
       "    <tr>\n",
       "      <th>3</th>\n",
       "      <td>400.0</td>\n",
       "      <td>521.0</td>\n",
       "      <td>927.0</td>\n",
       "      <td>0.0</td>\n",
       "      <td>1026.0</td>\n",
       "      <td>493.0</td>\n",
       "      <td>2072.0</td>\n",
       "      <td>642.0</td>\n",
       "      <td>407.0</td>\n",
       "      <td>5031.0</td>\n",
       "    </tr>\n",
       "    <tr>\n",
       "      <th>4</th>\n",
       "      <td>960.0</td>\n",
       "      <td>890.0</td>\n",
       "      <td>970.0</td>\n",
       "      <td>1026.0</td>\n",
       "      <td>0.0</td>\n",
       "      <td>991.0</td>\n",
       "      <td>2575.0</td>\n",
       "      <td>1121.0</td>\n",
       "      <td>933.0</td>\n",
       "      <td>5433.0</td>\n",
       "    </tr>\n",
       "    <tr>\n",
       "      <th>5</th>\n",
       "      <td>158.0</td>\n",
       "      <td>441.0</td>\n",
       "      <td>884.0</td>\n",
       "      <td>493.0</td>\n",
       "      <td>991.0</td>\n",
       "      <td>0.0</td>\n",
       "      <td>2454.0</td>\n",
       "      <td>280.0</td>\n",
       "      <td>413.0</td>\n",
       "      <td>5377.0</td>\n",
       "    </tr>\n",
       "    <tr>\n",
       "      <th>6</th>\n",
       "      <td>2408.0</td>\n",
       "      <td>2482.0</td>\n",
       "      <td>2578.0</td>\n",
       "      <td>2072.0</td>\n",
       "      <td>2575.0</td>\n",
       "      <td>2454.0</td>\n",
       "      <td>0.0</td>\n",
       "      <td>2447.0</td>\n",
       "      <td>2345.0</td>\n",
       "      <td>3047.0</td>\n",
       "    </tr>\n",
       "    <tr>\n",
       "      <th>7</th>\n",
       "      <td>385.0</td>\n",
       "      <td>689.0</td>\n",
       "      <td>1031.0</td>\n",
       "      <td>642.0</td>\n",
       "      <td>1121.0</td>\n",
       "      <td>280.0</td>\n",
       "      <td>2447.0</td>\n",
       "      <td>0.0</td>\n",
       "      <td>665.0</td>\n",
       "      <td>5370.0</td>\n",
       "    </tr>\n",
       "    <tr>\n",
       "      <th>8</th>\n",
       "      <td>326.0</td>\n",
       "      <td>294.0</td>\n",
       "      <td>822.0</td>\n",
       "      <td>407.0</td>\n",
       "      <td>933.0</td>\n",
       "      <td>413.0</td>\n",
       "      <td>2345.0</td>\n",
       "      <td>665.0</td>\n",
       "      <td>0.0</td>\n",
       "      <td>5229.0</td>\n",
       "    </tr>\n",
       "    <tr>\n",
       "      <th>9</th>\n",
       "      <td>5342.0</td>\n",
       "      <td>5385.0</td>\n",
       "      <td>5435.0</td>\n",
       "      <td>5031.0</td>\n",
       "      <td>5433.0</td>\n",
       "      <td>5377.0</td>\n",
       "      <td>3047.0</td>\n",
       "      <td>5370.0</td>\n",
       "      <td>5229.0</td>\n",
       "      <td>0.0</td>\n",
       "    </tr>\n",
       "  </tbody>\n",
       "</table>\n",
       "</div>"
      ],
      "text/plain": [
       "        0       1       2       3       4       5       6       7       8  \\\n",
       "0     0.0   369.0   850.0   400.0   960.0   158.0  2408.0   385.0   326.0   \n",
       "1   369.0     0.0   615.0   521.0   890.0   441.0  2482.0   689.0   294.0   \n",
       "2   850.0   615.0     0.0   927.0   970.0   884.0  2578.0  1031.0   822.0   \n",
       "3   400.0   521.0   927.0     0.0  1026.0   493.0  2072.0   642.0   407.0   \n",
       "4   960.0   890.0   970.0  1026.0     0.0   991.0  2575.0  1121.0   933.0   \n",
       "5   158.0   441.0   884.0   493.0   991.0     0.0  2454.0   280.0   413.0   \n",
       "6  2408.0  2482.0  2578.0  2072.0  2575.0  2454.0     0.0  2447.0  2345.0   \n",
       "7   385.0   689.0  1031.0   642.0  1121.0   280.0  2447.0     0.0   665.0   \n",
       "8   326.0   294.0   822.0   407.0   933.0   413.0  2345.0   665.0     0.0   \n",
       "9  5342.0  5385.0  5435.0  5031.0  5433.0  5377.0  3047.0  5370.0  5229.0   \n",
       "\n",
       "        9  \n",
       "0  5342.0  \n",
       "1  5385.0  \n",
       "2  5435.0  \n",
       "3  5031.0  \n",
       "4  5433.0  \n",
       "5  5377.0  \n",
       "6  3047.0  \n",
       "7  5370.0  \n",
       "8  5229.0  \n",
       "9     0.0  "
      ]
     },
     "execution_count": 11,
     "metadata": {},
     "output_type": "execute_result"
    }
   ],
   "source": [
    "import pandas as pd\n",
    "kinetics = pd.read_csv('./data/overall_distances_kinetics.csv', index_col=0)\n",
    "kinetics = kinetics.round(0)\n",
    "kinetics"
   ]
  },
  {
   "cell_type": "code",
   "execution_count": 13,
   "metadata": {},
   "outputs": [
    {
     "data": {
      "text/html": [
       "<div>\n",
       "<style scoped>\n",
       "    .dataframe tbody tr th:only-of-type {\n",
       "        vertical-align: middle;\n",
       "    }\n",
       "\n",
       "    .dataframe tbody tr th {\n",
       "        vertical-align: top;\n",
       "    }\n",
       "\n",
       "    .dataframe thead th {\n",
       "        text-align: right;\n",
       "    }\n",
       "</style>\n",
       "<table border=\"1\" class=\"dataframe\">\n",
       "  <thead>\n",
       "    <tr style=\"text-align: right;\">\n",
       "      <th></th>\n",
       "      <th>clones</th>\n",
       "      <th>populations</th>\n",
       "    </tr>\n",
       "  </thead>\n",
       "  <tbody>\n",
       "    <tr>\n",
       "      <th>0</th>\n",
       "      <td>Clone 0</td>\n",
       "      <td>HSC_MPP</td>\n",
       "    </tr>\n",
       "    <tr>\n",
       "      <th>1</th>\n",
       "      <td>Clone 1</td>\n",
       "      <td>MEMP</td>\n",
       "    </tr>\n",
       "    <tr>\n",
       "      <th>2</th>\n",
       "      <td>Clone 2</td>\n",
       "      <td>Megakaryocyte</td>\n",
       "    </tr>\n",
       "    <tr>\n",
       "      <th>3</th>\n",
       "      <td>Clone 3</td>\n",
       "      <td>Mast cell</td>\n",
       "    </tr>\n",
       "    <tr>\n",
       "      <th>4</th>\n",
       "      <td>Clone 4</td>\n",
       "      <td>Early Erythroid</td>\n",
       "    </tr>\n",
       "    <tr>\n",
       "      <th>5</th>\n",
       "      <td>Clone 5</td>\n",
       "      <td>Mid Erythroid</td>\n",
       "    </tr>\n",
       "    <tr>\n",
       "      <th>6</th>\n",
       "      <td>Clone 6</td>\n",
       "      <td>Late Erythroid</td>\n",
       "    </tr>\n",
       "    <tr>\n",
       "      <th>7</th>\n",
       "      <td>Clone 7</td>\n",
       "      <td>Neutrophil-myeloid progenitor</td>\n",
       "    </tr>\n",
       "    <tr>\n",
       "      <th>8</th>\n",
       "      <td>Clone 8</td>\n",
       "      <td>DC</td>\n",
       "    </tr>\n",
       "    <tr>\n",
       "      <th>9</th>\n",
       "      <td>Clone 9</td>\n",
       "      <td>Monocyte precursor</td>\n",
       "    </tr>\n",
       "    <tr>\n",
       "      <th>10</th>\n",
       "      <td>Background</td>\n",
       "      <td>Monocyte</td>\n",
       "    </tr>\n",
       "  </tbody>\n",
       "</table>\n",
       "</div>"
      ],
      "text/plain": [
       "        clones                    populations\n",
       "0      Clone 0                        HSC_MPP\n",
       "1      Clone 1                           MEMP\n",
       "2      Clone 2                  Megakaryocyte\n",
       "3      Clone 3                      Mast cell\n",
       "4      Clone 4                Early Erythroid\n",
       "5      Clone 5                  Mid Erythroid\n",
       "6      Clone 6                 Late Erythroid\n",
       "7      Clone 7  Neutrophil-myeloid progenitor\n",
       "8      Clone 8                             DC\n",
       "9      Clone 9             Monocyte precursor\n",
       "10  Background                       Monocyte"
      ]
     },
     "execution_count": 13,
     "metadata": {},
     "output_type": "execute_result"
    }
   ],
   "source": [
    "anno = pd.read_csv('./data/annotations.csv')\n",
    "anno"
   ]
  },
  {
   "attachments": {},
   "cell_type": "markdown",
   "metadata": {},
   "source": [
    "#### Simulation"
   ]
  },
  {
   "cell_type": "code",
   "execution_count": 1,
   "metadata": {},
   "outputs": [],
   "source": [
    "import numpy as np\n",
    "import matplotlib.pyplot as plt\n",
    "import pandas as pd\n",
    "import seaborn as sns\n",
    "\n",
    "import torch\n",
    "torch.manual_seed(42)\n",
    "torch.cuda.manual_seed_all(42)\n",
    "# torch.set_printoptions(sci_mode=False, )\n",
    "np.set_printoptions(suppress=True)\n",
    "\n",
    "from clonaltrans import pl, utils\n",
    "import os\n",
    "\n",
    "%load_ext autoreload\n",
    "%autoreload 2"
   ]
  },
  {
   "cell_type": "code",
   "execution_count": 13,
   "metadata": {},
   "outputs": [],
   "source": [
    "path = './examples/2Layers/EKMTime4LR001Epo1000LogN.pt'\n",
    "model = torch.load(path)\n",
    "device = torch.device(f\"cuda:{model.config.gpu}\")"
   ]
  },
  {
   "cell_type": "code",
   "execution_count": 17,
   "metadata": {},
   "outputs": [
    {
     "name": "stdout",
     "output_type": "stream",
     "text": [
      "ODEBlock(\n",
      "  encode (clone, pop, hidden) = torch.Size([11, 11, 16]), \n",
      "  encode_bias=True, \n",
      "  decode (clone, hidden, pop) = torch.Size([11, 16, 11]), \n",
      "  decode_bias=True\n",
      "  (activation): Softplus(beta=1, threshold=20)\n",
      ")\n"
     ]
    }
   ],
   "source": [
    "print (model.ode_func)"
   ]
  },
  {
   "cell_type": "code",
   "execution_count": 21,
   "metadata": {},
   "outputs": [],
   "source": [
    "model.matrix_K = model.get_matrix_K()"
   ]
  },
  {
   "cell_type": "code",
   "execution_count": 22,
   "metadata": {},
   "outputs": [],
   "source": [
    "K = model.matrix_K"
   ]
  },
  {
   "cell_type": "code",
   "execution_count": 23,
   "metadata": {},
   "outputs": [],
   "source": [
    "anno = pd.read_csv('./data/annotations.csv')"
   ]
  },
  {
   "cell_type": "code",
   "execution_count": 24,
   "metadata": {},
   "outputs": [],
   "source": [
    "transition_K = pd.DataFrame(\n",
    "    index=anno['populations'].values, \n",
    "    columns=anno['populations'].values, \n",
    "    data=K.detach().cpu().numpy()[8]\n",
    ")"
   ]
  },
  {
   "cell_type": "code",
   "execution_count": 25,
   "metadata": {},
   "outputs": [
    {
     "data": {
      "text/plain": [
       "tensor(1.0668e-05, device='cuda:0', grad_fn=<SelectBackward0>)"
      ]
     },
     "execution_count": 25,
     "metadata": {},
     "output_type": "execute_result"
    }
   ],
   "source": [
    "model.matrix_K[8, 9, 9]"
   ]
  },
  {
   "cell_type": "code",
   "execution_count": 28,
   "metadata": {},
   "outputs": [
    {
     "data": {
      "text/plain": [
       "tensor(2.6336e-07, device='cuda:0', grad_fn=<SubBackward0>)"
      ]
     },
     "execution_count": 28,
     "metadata": {},
     "output_type": "execute_result"
    }
   ],
   "source": [
    "model.matrix_K[8, 9, 9] - model.ode_func.K2[8, 9]"
   ]
  },
  {
   "cell_type": "code",
   "execution_count": 29,
   "metadata": {},
   "outputs": [
    {
     "data": {
      "text/plain": [
       "tensor(-0.0005, device='cuda:0', grad_fn=<SelectBackward0>)"
      ]
     },
     "execution_count": 29,
     "metadata": {},
     "output_type": "execute_result"
    }
   ],
   "source": [
    "model.ode_func.K1[8, 9, 9]"
   ]
  },
  {
   "cell_type": "code",
   "execution_count": 26,
   "metadata": {},
   "outputs": [
    {
     "data": {
      "text/plain": [
       "tensor(1.0405e-05, device='cuda:0', grad_fn=<SelectBackward0>)"
      ]
     },
     "execution_count": 26,
     "metadata": {},
     "output_type": "execute_result"
    }
   ],
   "source": [
    "model.ode_func.K2[8, 9]"
   ]
  },
  {
   "cell_type": "code",
   "execution_count": 27,
   "metadata": {},
   "outputs": [
    {
     "data": {
      "text/plain": [
       "tensor(2.6336e-07, device='cuda:0', grad_fn=<SelectBackward0>)"
      ]
     },
     "execution_count": 27,
     "metadata": {},
     "output_type": "execute_result"
    }
   ],
   "source": [
    "torch.square(model.ode_func.K1)[8, 9, 9]"
   ]
  },
  {
   "cell_type": "code",
   "execution_count": 30,
   "metadata": {},
   "outputs": [
    {
     "data": {
      "text/plain": [
       "<AxesSubplot: >"
      ]
     },
     "execution_count": 30,
     "metadata": {},
     "output_type": "execute_result"
    },
    {
     "data": {
      "image/png": "[encoded data removed]",
      "text/plain": [
       "<Figure size 1200x600 with 2 Axes>"
      ]
     },
     "metadata": {},
     "output_type": "display_data"
    }
   ],
   "source": [
    "fig, axes = plt.subplots(figsize=(12, 6))\n",
    "sns.heatmap(transition_K, annot=True, linewidths=.5, cmap='coolwarm', ax=axes)"
   ]
  }
 ],
 "metadata": {
  "kernelspec": {
   "display_name": "pytorch",
   "language": "python",
   "name": "python3"
  },
  "language_info": {
   "codemirror_mode": {
    "name": "ipython",
    "version": 3
   },
   "file_extension": ".py",
   "mimetype": "text/x-python",
   "name": "python",
   "nbconvert_exporter": "python",
   "pygments_lexer": "ipython3",
   "version": "3.8.13"
  },
  "orig_nbformat": 4,
  "vscode": {
   "interpreter": {
    "hash": "5bea26acb35a065a507f67decc8ffd4c0ef6bd06635c3d0e0b5e88a0b58fc0d6"
   }
  }
 },
 "nbformat": 4,
 "nbformat_minor": 2
}
