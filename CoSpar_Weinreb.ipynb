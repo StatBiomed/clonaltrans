{
 "cells": [
  {
   "cell_type": "code",
   "execution_count": null,
   "id": "374a2e08-33d0-4cd1-9954-b3b353cbee02",
   "metadata": {},
   "outputs": [],
   "source": [
    "import cospar as cs\n",
    "import pandas as pd\n",
    "import scipy\n",
    "import numpy as np\n",
    "import os\n",
    "import scanpy as sc\n",
    "from cospar.plotting import _utils as pl_util\n",
    "\n",
    "%reload_ext autoreload\n",
    "%autoreload 2\n",
    "\n",
    "import pandas as pd\n",
    "import torch\n",
    "import seaborn as sns\n",
    "import matplotlib.pyplot as plt"
   ]
  },
  {
   "cell_type": "code",
   "execution_count": null,
   "id": "767e51d5-412a-416c-9119-38361accd376",
   "metadata": {},
   "outputs": [],
   "source": [
    "cs.settings.set_figure_params(format=\"png\", figsize=[4, 3.5], dpi=100, fontsize=12, pointsize=3)"
   ]
  },
  {
   "cell_type": "markdown",
   "id": "670140c2-9e2f-4868-84fd-00b2eff2580d",
   "metadata": {},
   "source": [
    "### CoSpar Basics"
   ]
  },
  {
   "cell_type": "code",
   "execution_count": null,
   "id": "ff4ed94b-923a-4bba-b376-33619ca1ada9",
   "metadata": {},
   "outputs": [],
   "source": [
    "adata = sc.read_h5ad('./datasets/Weinreb/adata_used.h5ad')\n",
    "adata"
   ]
  },
  {
   "cell_type": "code",
   "execution_count": null,
   "id": "077270a6",
   "metadata": {},
   "outputs": [],
   "source": [
    "adata.obs['Clone_ID'] = [name[6:] for name in adata.obs.clones.values]"
   ]
  },
  {
   "cell_type": "code",
   "execution_count": null,
   "id": "dd399a2e-f1fa-444e-8d47-2e1050efdce3",
   "metadata": {},
   "outputs": [],
   "source": [
    "adata.obs"
   ]
  },
  {
   "cell_type": "code",
   "execution_count": null,
   "id": "ff4ebd0a",
   "metadata": {},
   "outputs": [],
   "source": [
    "RNA_count_matrix = scipy.sparse.coo_matrix(np.expm1(adata.raw.X))"
   ]
  },
  {
   "cell_type": "code",
   "execution_count": null,
   "id": "71bdcba0-e8c4-48e4-becd-551a6a521cfa",
   "metadata": {},
   "outputs": [],
   "source": [
    "adata_orig = cs.pp.initialize_adata_object(\n",
    "    X_state=RNA_count_matrix,\n",
    "    gene_names=adata.raw.var_names,\n",
    "    cell_names=adata.obs.index,\n",
    "    time_info=adata.obs.Time_point.values,\n",
    "    state_info=adata.obs.label_man.values,\n",
    "    X_emb=adata.obsm['X_umap'],\n",
    "    X_pca=adata.obsm['X_pca'],\n",
    "    data_des=\"cospar\",\n",
    ")"
   ]
  },
  {
   "cell_type": "code",
   "execution_count": null,
   "id": "e36283af",
   "metadata": {},
   "outputs": [],
   "source": [
    "adata_orig"
   ]
  },
  {
   "cell_type": "code",
   "execution_count": null,
   "id": "e02182a0",
   "metadata": {},
   "outputs": [],
   "source": [
    "# cs.hf.update_time_ordering(adata_orig, updated_ordering=[\"3\", \"10\", \"17\"])"
   ]
  },
  {
   "cell_type": "code",
   "execution_count": null,
   "id": "53310ef2-6158-42bb-a87d-7625ea5c16f1",
   "metadata": {},
   "outputs": [],
   "source": [
    "cs.pp.get_highly_variable_genes(adata_orig)\n",
    "cs.pp.remove_cell_cycle_correlated_genes(adata_orig, corr_threshold=0.5, confirm_change=True)\n",
    "cs.pp.get_X_clone(adata_orig, adata.obs.index.values, adata.obs.Clone_ID.values)"
   ]
  },
  {
   "cell_type": "code",
   "execution_count": null,
   "id": "87f39ab0",
   "metadata": {},
   "outputs": [],
   "source": [
    "cs.pl.clones_on_manifold(\n",
    "    adata_orig,\n",
    "    selected_clone_list=[1],\n",
    "    color_list=[\"black\", \"red\", \"blue\"],\n",
    "    clone_markersize=8,\n",
    ")"
   ]
  },
  {
   "cell_type": "code",
   "execution_count": null,
   "id": "25ba1876-8c4a-402d-b4cd-27fe5c58c36d",
   "metadata": {},
   "outputs": [],
   "source": [
    "selected_fates = [\"Ery\", \"Meg\", \"Eos\", \"Mast\", \"DC\", \"Mono\", \"Neu\", \"pDC\", \"Ly\", 'Baso']"
   ]
  },
  {
   "cell_type": "code",
   "execution_count": null,
   "id": "ea23a64d-5b58-4b7b-9c76-a74ec0a69366",
   "metadata": {},
   "outputs": [],
   "source": [
    "cs.pl.barcode_heatmap(\n",
    "    adata_orig,\n",
    "    selected_fates=selected_fates,\n",
    "    color_bar=True,\n",
    "    log_transform=False,\n",
    "    fig_height=4\n",
    ")"
   ]
  },
  {
   "cell_type": "code",
   "execution_count": null,
   "id": "fe6d27c5",
   "metadata": {},
   "outputs": [],
   "source": [
    "# cs.pl.barcode_heatmap(\n",
    "#     adata_orig,\n",
    "#     selected_fates=selected_fates,\n",
    "#     color_bar=True,\n",
    "#     log_transform=False,\n",
    "#     binarize=True,\n",
    "#     fig_height=4\n",
    "# )"
   ]
  },
  {
   "cell_type": "code",
   "execution_count": null,
   "id": "85e2982a",
   "metadata": {},
   "outputs": [],
   "source": [
    "cs.tl.fate_coupling(adata_orig, selected_fates=selected_fates, source=\"X_clone\") \n",
    "cs.pl.fate_coupling(adata_orig, source=\"X_clone\")"
   ]
  },
  {
   "cell_type": "markdown",
   "metadata": {},
   "source": [
    "Strong coupling implies the existence of bi-potent or multi-potent cell states at the time of barcoding. You can visualize the fate hierarchy by a simple neighbor-joining method"
   ]
  },
  {
   "cell_type": "code",
   "execution_count": null,
   "id": "62924107-2c8c-4eb7-bf2e-253dc851511f",
   "metadata": {},
   "outputs": [],
   "source": [
    "cs.tl.fate_hierarchy(adata_orig, selected_fates=selected_fates, source=\"X_clone\")\n",
    "cs.pl.fate_hierarchy(adata_orig, source=\"X_clone\")"
   ]
  },
  {
   "cell_type": "code",
   "execution_count": null,
   "id": "30e06ce5-eea3-429b-bc2d-04a3126cff1f",
   "metadata": {},
   "outputs": [],
   "source": [
    "sc.pl.umap(adata, color=\"label_man\", groups='Meg')"
   ]
  },
  {
   "cell_type": "code",
   "execution_count": null,
   "id": "f043872c",
   "metadata": {},
   "outputs": [],
   "source": [
    "df_results = []\n",
    "\n",
    "for fate in selected_fates:\n",
    "    cs.tl.clonal_fate_bias(adata_orig, selected_fate=fate, alternative=\"two-sided\")\n",
    "    cs.pl.clonal_fate_bias(adata_orig)\n",
    "    df_results.append(adata_orig.uns[\"clonal_fate_bias\"])"
   ]
  },
  {
   "cell_type": "code",
   "execution_count": null,
   "id": "b6ea7ddd",
   "metadata": {},
   "outputs": [],
   "source": [
    "for idx, fate in enumerate(selected_fates):\n",
    "    df_results[idx].to_csv(f'./data/fate_bias_weinreb_cospar_{fate}.csv')"
   ]
  },
  {
   "cell_type": "markdown",
   "id": "3fac733f-a2dc-4c37-baf6-f7bc5ee509ad",
   "metadata": {},
   "source": [
    "### Transition Map Inference"
   ]
  },
  {
   "cell_type": "code",
   "execution_count": null,
   "metadata": {},
   "outputs": [],
   "source": [
    "adata_all_latert = adata_orig.copy()\n",
    "adata_all_latert = cs.tmap.infer_Tmap_from_multitime_clones(\n",
    "    adata_all_latert,\n",
    "    clonal_time_points=['2.0', '4.0', '6.0'],\n",
    "    later_time_point='6.0',\n",
    "    smooth_array=[20, 15, 10, 5],\n",
    "    max_iter_N=10,\n",
    ")"
   ]
  },
  {
   "cell_type": "code",
   "execution_count": null,
   "id": "bb1cef8e",
   "metadata": {},
   "outputs": [],
   "source": [
    "adata_all_latert"
   ]
  },
  {
   "cell_type": "code",
   "execution_count": null,
   "id": "b70580e0",
   "metadata": {},
   "outputs": [],
   "source": [
    "adata_clone_latert = adata_orig.copy()\n",
    "adata_clone_latert = cs.tmap.infer_Tmap_from_clonal_info_alone(\n",
    "    adata_clone_latert,\n",
    "    method='naive',\n",
    "    clonal_time_points=['2.0', '4.0', '6.0'],\n",
    "    later_time_point=None\n",
    ")"
   ]
  },
  {
   "cell_type": "code",
   "execution_count": null,
   "id": "3cf38335",
   "metadata": {},
   "outputs": [],
   "source": [
    "adata_clone_latert"
   ]
  },
  {
   "cell_type": "code",
   "execution_count": null,
   "id": "c5aca3c6",
   "metadata": {},
   "outputs": [],
   "source": [
    "def post_process_adata(adata):\n",
    "    parent_map, node_mapping = {}, {}\n",
    "\n",
    "    for key, value in adata_all_latert.uns['fate_hierarchy_X_clone']['parent_map'].items():\n",
    "        parent_map[str(key)] = value\n",
    "\n",
    "    for key, value in adata_all_latert.uns['fate_hierarchy_X_clone']['node_mapping'].items():\n",
    "        node_mapping[str(key)] = value\n",
    "    \n",
    "    adata.uns['fate_hierarchy_X_clone']['parent_map'] = parent_map\n",
    "    adata.uns['fate_hierarchy_X_clone']['node_mapping'] = node_mapping\n",
    "\n",
    "    return adata"
   ]
  },
  {
   "cell_type": "code",
   "execution_count": null,
   "id": "7bdbcb7f",
   "metadata": {},
   "outputs": [],
   "source": [
    "# adata_all_latert = post_process_adata(adata_all_latert)\n",
    "# adata_clone_latert = post_process_adata(adata_clone_latert)\n",
    "\n",
    "# cs.hf.save_map(adata_all_latert)\n",
    "# cs.hf.save_map(adata_clone_latert)"
   ]
  },
  {
   "cell_type": "markdown",
   "id": "ede8dffa-7d76-4823-aa6a-bbd310a41281",
   "metadata": {},
   "source": [
    "### Others"
   ]
  },
  {
   "cell_type": "code",
   "execution_count": null,
   "id": "f571815a-991d-400f-ad35-f315cd04e10b",
   "metadata": {},
   "outputs": [],
   "source": [
    "coarse_X_clone, mega_cluster_list = cs.tl.coarse_grain_clone_over_cell_clusters(\n",
    "    adata_orig,\n",
    "    selected_times=['2.0', '4.0', '6.0'],\n",
    "    selected_fates=selected_fates\n",
    ")"
   ]
  },
  {
   "cell_type": "code",
   "execution_count": null,
   "id": "c74093a2-3efc-4ec0-9db7-903320f5e306",
   "metadata": {},
   "outputs": [],
   "source": [
    "coarse_X_clone"
   ]
  },
  {
   "cell_type": "code",
   "execution_count": null,
   "id": "c993e0fc",
   "metadata": {},
   "outputs": [],
   "source": [
    "coarse_X_clone.shape"
   ]
  },
  {
   "cell_type": "code",
   "execution_count": null,
   "id": "839ce88d-65e0-4061-b7db-96b520fc6231",
   "metadata": {},
   "outputs": [],
   "source": [
    "coarse_X_clone_new = pl_util.custom_hierachical_ordering(np.arange(coarse_X_clone.shape[0]), coarse_X_clone)\n",
    "coarse_X_clone_new"
   ]
  },
  {
   "cell_type": "code",
   "execution_count": null,
   "id": "b3fc4a23",
   "metadata": {},
   "outputs": [],
   "source": [
    "coarse_X_clone_new.shape"
   ]
  },
  {
   "cell_type": "markdown",
   "metadata": {},
   "source": [
    "### Transition Map Visualization"
   ]
  },
  {
   "cell_type": "code",
   "execution_count": null,
   "id": "5dc49911",
   "metadata": {},
   "outputs": [],
   "source": [
    "cs.tl.fate_map(\n",
    "    adata_all_latert,\n",
    "    selected_fates=[\"Neu\", \"Mono\"],\n",
    "    source=\"transition_map\",\n",
    "    map_backward=True,\n",
    ")\n",
    "\n",
    "cs.pl.fate_map(\n",
    "    adata_all_latert,\n",
    "    selected_fates=[\"Neu\"],\n",
    "    source=\"transition_map\",\n",
    "    plot_target_state=True,\n",
    "    show_histogram=False,\n",
    ")"
   ]
  },
  {
   "cell_type": "code",
   "execution_count": null,
   "id": "c9031faa",
   "metadata": {},
   "outputs": [],
   "source": [
    "cs.tl.fate_potency(\n",
    "    adata_all_latert,\n",
    "    source=\"transition_map\",\n",
    "    map_backward=True,\n",
    "    method=\"norm-sum\",\n",
    "    fate_count=True,\n",
    ")\n",
    "\n",
    "cs.pl.fate_potency(adata_all_latert, source=\"transition_map\")"
   ]
  },
  {
   "cell_type": "code",
   "execution_count": null,
   "id": "475abfd5",
   "metadata": {},
   "outputs": [],
   "source": [
    "cs.tl.fate_bias(\n",
    "    adata_all_latert,\n",
    "    selected_fates=[\"Neu\", \"Mono\"],\n",
    "    source=\"transition_map\",\n",
    "    pseudo_count=0,\n",
    ")\n",
    "\n",
    "cs.pl.fate_bias(\n",
    "    adata_all_latert,\n",
    "    selected_fates=[\"Neu\", \"Mono\"],\n",
    "    source=\"transition_map\",\n",
    "    plot_target_state=False,\n",
    ")"
   ]
  },
  {
   "cell_type": "code",
   "execution_count": null,
   "id": "c9ed47e2",
   "metadata": {},
   "outputs": [],
   "source": [
    "cs.pl.embedding(adata_all_latert, color=[\"fate_map_transition_map_Ery\"], save='ery.svg')"
   ]
  },
  {
   "cell_type": "code",
   "execution_count": null,
   "id": "76872852",
   "metadata": {},
   "outputs": [],
   "source": [
    "cs.tl.progenitor(\n",
    "    adata_all_latert,\n",
    "    selected_fates=[\"Neu\", \"Mono\"],\n",
    "    source=\"transition_map\",\n",
    "    map_backward=True,\n",
    "    bias_threshold_A=0.5,\n",
    "    bias_threshold_B=0.5,\n",
    "    sum_fate_prob_thresh=0.2,\n",
    "    avoid_target_states=True,\n",
    ")\n",
    "\n",
    "cs.pl.embedding(adata_all_latert, color=['progenitor_transition_map_Neu', 'progenitor_transition_map_Mono'])"
   ]
  },
  {
   "cell_type": "code",
   "execution_count": null,
   "id": "b58d8f5b",
   "metadata": {},
   "outputs": [],
   "source": [
    "import numpy as np\n",
    "\n",
    "cell_group_A = np.array(adata_all_latert.obs[\"diff_trajectory_transition_map_Neu\"])\n",
    "cell_group_B = np.array(adata_all_latert.obs[\"diff_trajectory_transition_map_Mono\"])\n",
    "\n",
    "dge_gene_A, dge_gene_B = cs.tl.differential_genes(\n",
    "    adata_all_latert, cell_group_A=cell_group_A, cell_group_B=cell_group_B, FDR_cutoff=0.05\n",
    ")"
   ]
  },
  {
   "cell_type": "code",
   "execution_count": null,
   "id": "d719dd3b",
   "metadata": {},
   "outputs": [],
   "source": [
    "dge_gene_A"
   ]
  },
  {
   "cell_type": "code",
   "execution_count": null,
   "id": "0808abc8",
   "metadata": {},
   "outputs": [],
   "source": [
    "selected_genes = dge_gene_A[\"gene\"][:2]\n",
    "cs.pl.gene_expression_on_manifold(\n",
    "    adata_all_latert, selected_genes=selected_genes, color_bar=True, savefig=False\n",
    ")"
   ]
  },
  {
   "cell_type": "code",
   "execution_count": null,
   "id": "e4309c02",
   "metadata": {},
   "outputs": [],
   "source": [
    "gene_list = list(dge_gene_A[\"gene\"][:20]) + list(dge_gene_B[\"gene\"][:20]) \n",
    "\n",
    "selected_fates = [\n",
    "    \"Neu\",\n",
    "    \"Mono\",\n",
    "    [\"Baso\", \"Eos\"],\n",
    "    [\"Mast\", \"Ery\", \"Meg\"],\n",
    "]\n",
    "renames = [\"Neu\", \"Mon\", \"Baso-Eos\", \"Mast-Ery-Meg\"]\n",
    "\n",
    "gene_expression_matrix = cs.pl.gene_expression_heatmap(\n",
    "    adata_all_latert,\n",
    "    selected_genes=gene_list,\n",
    "    selected_fates=selected_fates,\n",
    "    rename_fates=renames,\n",
    "    fig_width=12,\n",
    ")"
   ]
  },
  {
   "cell_type": "code",
   "execution_count": null,
   "id": "2e676a75",
   "metadata": {},
   "outputs": [],
   "source": [
    "gene_name_list = [\"Gata1\", \"Mpo\", \"Elane\", \"S100a8\"]\n",
    "selected_fate = \"Neu\"\n",
    "\n",
    "cs.pl.gene_expression_dynamics(\n",
    "    adata_all_latert,\n",
    "    selected_fate,\n",
    "    gene_name_list,\n",
    "    traj_threshold=0.2,\n",
    "    invert_PseudoTime=False,\n",
    "    compute_new=True,\n",
    "    gene_exp_percentile=99,\n",
    "    n_neighbors=15,\n",
    "    plot_raw_data=False,\n",
    ")"
   ]
  },
  {
   "cell_type": "markdown",
   "id": "dd735db1",
   "metadata": {},
   "source": [
    "### Benchmark with Gillespie"
   ]
  },
  {
   "cell_type": "markdown",
   "metadata": {},
   "source": [
    "#### Init Gillespie Results"
   ]
  },
  {
   "cell_type": "code",
   "execution_count": null,
   "id": "efd2603d",
   "metadata": {},
   "outputs": [],
   "source": [
    "import os \n",
    "os.chdir('/ssd/users/mingzegao/clonaltrans/clonaltrans/')\n",
    "\n",
    "path = '../trails/checkpoints/WeinrebDynamicRates/0301_112802/model_last.pt'\n",
    "model = torch.load(path, map_location='cpu')\n",
    "device = torch.device('cpu')\n",
    "\n",
    "import os \n",
    "os.chdir('/ssd/users/mingzegao/clonaltrans/')"
   ]
  },
  {
   "cell_type": "code",
   "execution_count": null,
   "id": "1ebffff6",
   "metadata": {},
   "outputs": [],
   "source": [
    "anno = pd.read_csv(os.path.join(\n",
    "    model.config['data_loader']['args']['data_dir'], \n",
    "    model.config['data_loader']['args']['annots']\n",
    "))\n",
    "cluster_names = anno['populations'].values[:model.N.shape[2]]"
   ]
  },
  {
   "cell_type": "code",
   "execution_count": null,
   "id": "0dfb5094",
   "metadata": {},
   "outputs": [],
   "source": [
    "gillespie_dir='./trails/checkpoints/WeinrebDynamicGillespie/0301_211649/models/'"
   ]
  },
  {
   "cell_type": "markdown",
   "metadata": {},
   "source": [
    "#### Performance Comparison"
   ]
  },
  {
   "cell_type": "code",
   "execution_count": null,
   "id": "9d2794e9",
   "metadata": {},
   "outputs": [],
   "source": [
    "from clonaltrans.pl import with_cospar"
   ]
  },
  {
   "cell_type": "code",
   "execution_count": null,
   "id": "fe3d7828",
   "metadata": {},
   "outputs": [],
   "source": [
    "adata_all_latert.obs['meta_clones'] = adata.obs['meta_clones'].values\n",
    "adata_all_latert.obs['Clone_ID'] = adata.obs['Clone_ID'].values\n",
    "\n",
    "cs.pl.embedding(adata_all_latert, color=[\"meta_clones\", \"fate_map_transition_map_Mono\"])"
   ]
  },
  {
   "cell_type": "code",
   "execution_count": null,
   "id": "238337cb",
   "metadata": {},
   "outputs": [],
   "source": [
    "adata.obs[adata.obs['meta_clones'] == '0']"
   ]
  },
  {
   "cell_type": "code",
   "execution_count": null,
   "id": "623d68f2",
   "metadata": {},
   "outputs": [],
   "source": [
    "selected_fates = [\"Ery\", \"Meg\", \"Eos\", \"Mast\", \"DC\", \"Mono\", \"Neu\", \"pDC\", \"Ly\", 'Baso']"
   ]
  },
  {
   "cell_type": "code",
   "execution_count": null,
   "id": "38ab07b9",
   "metadata": {},
   "outputs": [],
   "source": [
    "from clonaltrans.pl import get_fate_prob\n",
    "aggre = get_fate_prob(model, cluster_names, gillespie_dir)"
   ]
  },
  {
   "cell_type": "code",
   "execution_count": null,
   "id": "90dc4eb8",
   "metadata": {},
   "outputs": [],
   "source": [
    "aggre['clone_0']"
   ]
  },
  {
   "cell_type": "code",
   "execution_count": null,
   "id": "25ac8c8a",
   "metadata": {},
   "outputs": [],
   "source": [
    "from clonaltrans.pl import with_cospar_all\n",
    "with_cospar_all(\n",
    "    adata_all_latert, \n",
    "    adata, \n",
    "    model, \n",
    "    cluster_names,\n",
    "    gillespie_dir,\n",
    "    selected_fates,\n",
    "    save='weinrebcosparfate'\n",
    ")"
   ]
  },
  {
   "cell_type": "code",
   "execution_count": null,
   "id": "716695b7",
   "metadata": {},
   "outputs": [],
   "source": [
    "from clonaltrans.pl import with_cospar_all\n",
    "with_cospar_all(\n",
    "    adata_all_latert, \n",
    "    adata, \n",
    "    model, \n",
    "    cluster_names,\n",
    "    gillespie_dir,\n",
    "    selected_fates,\n",
    "    show_fate=False,\n",
    "    save='weinrebcosparprog'\n",
    ")"
   ]
  },
  {
   "cell_type": "code",
   "execution_count": null,
   "id": "eef85c5d",
   "metadata": {},
   "outputs": [],
   "source": [
    "with_cospar(\n",
    "    adata_all_latert, \n",
    "    adata, \n",
    "    'prog_1', \n",
    "    'Mono', \n",
    "    model, \n",
    "    cluster_names,\n",
    "    gillespie_dir\n",
    ")"
   ]
  },
  {
   "cell_type": "code",
   "execution_count": null,
   "id": "cbde967a",
   "metadata": {},
   "outputs": [],
   "source": [
    "with_cospar(\n",
    "    adata_all_latert, \n",
    "    adata, \n",
    "    'prog_2', \n",
    "    'Mono', \n",
    "    model, \n",
    "    cluster_names,\n",
    "    gillespie_dir\n",
    ")"
   ]
  },
  {
   "cell_type": "code",
   "execution_count": null,
   "id": "e31a3ec8",
   "metadata": {},
   "outputs": [],
   "source": [
    "adata_all_latert.obs['meta_clones'] = adata.obs['meta_clones'].values\n",
    "adata_all_latert.obs['Clone_ID'] = adata.obs['Clone_ID'].values\n",
    "\n",
    "df = adata_all_latert.obs[adata_all_latert.obs[f'fate_map_transition_map_Mono'] >= 0]\n",
    "df = df[df['state_info'] == 'prog_2']\n",
    "\n",
    "cospar_bias = pd.DataFrame(\n",
    "        df.groupby('meta_clones')[f'fate_map_transition_map_Mono'].mean()\n",
    "    )\n",
    "cospar_bias"
   ]
  },
  {
   "cell_type": "code",
   "execution_count": null,
   "id": "7154c513",
   "metadata": {},
   "outputs": [],
   "source": [
    "with_cospar(\n",
    "    adata_all_latert, \n",
    "    adata, \n",
    "    'prog_3', \n",
    "    'Mono', \n",
    "    model, \n",
    "    cluster_names,\n",
    "    gillespie_dir\n",
    ")"
   ]
  },
  {
   "cell_type": "code",
   "execution_count": null,
   "id": "8b94bcb6",
   "metadata": {},
   "outputs": [],
   "source": [
    "with_cospar(\n",
    "    adata_all_latert, \n",
    "    adata, \n",
    "    'prog_2', \n",
    "    'Meg', \n",
    "    model, \n",
    "    cluster_names,\n",
    "    gillespie_dir\n",
    ")"
   ]
  },
  {
   "cell_type": "code",
   "execution_count": null,
   "id": "dc991cb2",
   "metadata": {},
   "outputs": [],
   "source": [
    "with_cospar(\n",
    "    adata_all_latert, \n",
    "    adata, \n",
    "    'prog_Baso_Meg_Ery_Mast', \n",
    "    'Ery', \n",
    "    model, \n",
    "    cluster_names,\n",
    "    gillespie_dir,\n",
    "    save='eryexample'\n",
    ")"
   ]
  },
  {
   "cell_type": "code",
   "execution_count": null,
   "id": "fda1ae79",
   "metadata": {},
   "outputs": [],
   "source": [
    "with_cospar(\n",
    "    adata_all_latert, \n",
    "    adata, \n",
    "    'prog_2', \n",
    "    'Baso', \n",
    "    model, \n",
    "    cluster_names,\n",
    "    gillespie_dir\n",
    ")"
   ]
  },
  {
   "cell_type": "code",
   "execution_count": null,
   "id": "d121d0a9",
   "metadata": {},
   "outputs": [],
   "source": [
    "with_cospar(\n",
    "    adata_all_latert, \n",
    "    adata, \n",
    "    'prog_Baso_Eos', \n",
    "    'Baso', \n",
    "    model, \n",
    "    cluster_names,\n",
    "    gillespie_dir\n",
    ")"
   ]
  },
  {
   "cell_type": "code",
   "execution_count": null,
   "id": "865b03ae",
   "metadata": {},
   "outputs": [],
   "source": [
    "with_cospar(\n",
    "    adata_all_latert, \n",
    "    adata, \n",
    "    'prog_Ly_pDC', \n",
    "    'Ly', \n",
    "    model, \n",
    "    cluster_names,\n",
    "    gillespie_dir\n",
    ")"
   ]
  },
  {
   "cell_type": "code",
   "execution_count": null,
   "id": "5e6ed870",
   "metadata": {},
   "outputs": [],
   "source": [
    "with_cospar(\n",
    "    adata_all_latert, \n",
    "    adata, \n",
    "    'prog_4', \n",
    "    'Neu', \n",
    "    model, \n",
    "    cluster_names,\n",
    "    gillespie_dir\n",
    ")"
   ]
  }
 ],
 "metadata": {
  "kernelspec": {
   "display_name": "Python 3 (ipykernel)",
   "language": "python",
   "name": "python3"
  },
  "language_info": {
   "codemirror_mode": {
    "name": "ipython",
    "version": 3
   },
   "file_extension": ".py",
   "mimetype": "text/x-python",
   "name": "python",
   "nbconvert_exporter": "python",
   "pygments_lexer": "ipython3",
   "version": "3.9.18"
  }
 },
 "nbformat": 4,
 "nbformat_minor": 5
}
